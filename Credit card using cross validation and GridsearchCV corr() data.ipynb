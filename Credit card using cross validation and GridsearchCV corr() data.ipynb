{
 "cells": [
  {
   "cell_type": "code",
   "execution_count": 1,
   "id": "505264a1",
   "metadata": {},
   "outputs": [
    {
     "name": "stderr",
     "output_type": "stream",
     "text": [
      "C:\\Users\\sandl\\anaconda3\\lib\\site-packages\\pandas\\core\\computation\\expressions.py:21: UserWarning: Pandas requires version '2.8.0' or newer of 'numexpr' (version '2.7.3' currently installed).\n",
      "  from pandas.core.computation.check import NUMEXPR_INSTALLED\n",
      "C:\\Users\\sandl\\anaconda3\\lib\\site-packages\\pandas\\core\\arrays\\masked.py:62: UserWarning: Pandas requires version '1.3.4' or newer of 'bottleneck' (version '1.3.2' currently installed).\n",
      "  from pandas.core import (\n"
     ]
    }
   ],
   "source": [
    "import numpy as np\n",
    "import pandas as pd\n",
    "from sklearn.model_selection import cross_val_score\n",
    "from sklearn.model_selection import GridSearchCV"
   ]
  },
  {
   "cell_type": "code",
   "execution_count": 2,
   "id": "b9004ba3",
   "metadata": {},
   "outputs": [],
   "source": [
    "# importing the models\n",
    "from sklearn.linear_model import LogisticRegression\n",
    "from sklearn.svm import SVC\n",
    "from sklearn.neighbors import KNeighborsClassifier\n",
    "from sklearn.ensemble import RandomForestClassifier"
   ]
  },
  {
   "cell_type": "code",
   "execution_count": 3,
   "id": "93d786ff",
   "metadata": {},
   "outputs": [],
   "source": [
    "# loading the csv data to a Pandas DataFrame\n",
    "data = pd.read_csv('Downloads/creditcard.csv')"
   ]
  },
  {
   "cell_type": "code",
   "execution_count": 4,
   "id": "a3df400c",
   "metadata": {},
   "outputs": [],
   "source": [
    "data = data.drop (['Time', 'V1', 'V2', 'V4', 'V5', 'V6',  'V8', 'V9', 'V13',  'V15', 'V18', 'V19', 'V20',\n",
    "       'V21', 'V22', 'V23', 'V24', 'V25', 'V26', 'V27', 'V28', 'Amount'], axis = 1)"
   ]
  },
  {
   "cell_type": "code",
   "execution_count": 5,
   "id": "5d3b28d1",
   "metadata": {},
   "outputs": [],
   "source": [
    "X = data.drop(columns='Class', axis=1)\n",
    "Y = data['Class']"
   ]
  },
  {
   "cell_type": "code",
   "execution_count": 6,
   "id": "678d1c05",
   "metadata": {},
   "outputs": [],
   "source": [
    "X = np.asarray(X)\n",
    "Y = np.asarray(Y)"
   ]
  },
  {
   "cell_type": "code",
   "execution_count": 7,
   "id": "467103ac",
   "metadata": {},
   "outputs": [],
   "source": [
    "# list of models\n",
    "models = [LogisticRegression(max_iter=1000), SVC(kernel='linear'), KNeighborsClassifier(), RandomForestClassifier(random_state=0)]"
   ]
  },
  {
   "cell_type": "code",
   "execution_count": 8,
   "id": "44d07c5d",
   "metadata": {},
   "outputs": [],
   "source": [
    "def compare_models_cross_validation():\n",
    "\n",
    "  for model in models:\n",
    "\n",
    "    cv_score = cross_val_score(model, X, Y, cv=5)\n",
    "    mean_accuracy = sum(cv_score)/len(cv_score)\n",
    "    mean_accuracy = mean_accuracy*100\n",
    "    mean_accuracy = round(mean_accuracy, 2)\n",
    "\n",
    "    print('Cross Validation accuracies for the',model,'=', cv_score)\n",
    "    print('Acccuracy score of the ',model,'=',mean_accuracy,'%')\n",
    "    print('---------------------------------------------------------------') "
   ]
  },
  {
   "cell_type": "code",
   "execution_count": 9,
   "id": "63104725",
   "metadata": {},
   "outputs": [
    {
     "name": "stdout",
     "output_type": "stream",
     "text": [
      "Cross Validation accuracies for the LogisticRegression(max_iter=1000) = [0.999052   0.99928022 0.99894665 0.99935043 0.99906954]\n",
      "Acccuracy score of the  LogisticRegression(max_iter=1000) = 99.91 %\n",
      "---------------------------------------------------------------\n",
      "Cross Validation accuracies for the SVC(kernel='linear') = [0.99903444 0.99963133 0.99913976 0.99961377 0.99928021]\n",
      "Acccuracy score of the  SVC(kernel='linear') = 99.93 %\n",
      "---------------------------------------------------------------\n",
      "Cross Validation accuracies for the KNeighborsClassifier() = [0.99912222 0.999526   0.99908709 0.99952599 0.99945577]\n",
      "Acccuracy score of the  KNeighborsClassifier() = 99.93 %\n",
      "---------------------------------------------------------------\n",
      "Cross Validation accuracies for the RandomForestClassifier(random_state=0) = [0.99906956 0.99963133 0.99917487 0.99961377 0.99943821]\n",
      "Acccuracy score of the  RandomForestClassifier(random_state=0) = 99.94 %\n",
      "---------------------------------------------------------------\n"
     ]
    }
   ],
   "source": [
    "compare_models_cross_validation()"
   ]
  },
  {
   "cell_type": "code",
   "execution_count": 10,
   "id": "80a24f46",
   "metadata": {},
   "outputs": [],
   "source": [
    "# list of models\n",
    "models_list = [LogisticRegression(max_iter=10000), SVC(), KNeighborsClassifier(), RandomForestClassifier(random_state=0)]"
   ]
  },
  {
   "cell_type": "code",
   "execution_count": 11,
   "id": "cb015e05",
   "metadata": {},
   "outputs": [],
   "source": [
    "# creating a dictionary that contains hyperparameter values for the above mentioned models\n",
    "\n",
    "\n",
    "model_hyperparameters = {\n",
    "    \n",
    "\n",
    "    'log_reg_hyperparameters': {\n",
    "        \n",
    "        'C' : [1,5,10,20]\n",
    "    },\n",
    "\n",
    "    'svc_hyperparameters': {\n",
    "        \n",
    "        'kernel' : ['linear','poly','rbf','sigmoid'],\n",
    "        'C' : [1,5,10,20]\n",
    "    },\n",
    "\n",
    "\n",
    "    'KNN_hyperparameters' : {\n",
    "        \n",
    "        'n_neighbors' : [3,5,10]\n",
    "    },\n",
    "\n",
    "\n",
    "    'random_forest_hyperparameters' : {\n",
    "        \n",
    "        'n_estimators' : [10, 20, 50, 100]\n",
    "    }\n",
    "}"
   ]
  },
  {
   "cell_type": "code",
   "execution_count": 14,
   "id": "5ec186b2",
   "metadata": {},
   "outputs": [
    {
     "name": "stdout",
     "output_type": "stream",
     "text": [
      "['log_reg_hyperparameters', 'svc_hyperparameters', 'KNN_hyperparameters', 'random_forest_hyperparameters']\n"
     ]
    }
   ],
   "source": [
    "model_keys = list(model_hyperparameters.keys())\n",
    "print(model_keys)"
   ]
  },
  {
   "cell_type": "code",
   "execution_count": 15,
   "id": "9bef4298",
   "metadata": {},
   "outputs": [],
   "source": [
    "def ModelSelection(list_of_models, hyperparameters_dictionary):\n",
    "\n",
    "  result = []\n",
    "\n",
    "  i = 0\n",
    "\n",
    "  for model in list_of_models:\n",
    "\n",
    "    key = model_keys[i]\n",
    "\n",
    "    params = hyperparameters_dictionary[key]\n",
    "\n",
    "    i += 1\n",
    "\n",
    "    print(model)\n",
    "    print(params)\n",
    "    print('---------------------------------')\n",
    "\n",
    "\n",
    "    classifier = GridSearchCV(model, params, cv=5)\n",
    "\n",
    "    # fitting the data to classifier\n",
    "    classifier.fit(X,Y)\n",
    "\n",
    "    result.append({\n",
    "        'model used' : model,\n",
    "        'highest score' : classifier.best_score_,\n",
    "        'best hyperparameters' : classifier.best_params_\n",
    "    })\n",
    "\n",
    "  result_dataframe = pd.DataFrame(result, columns = ['model used','highest score','best hyperparameters'])\n",
    "\n",
    "  return result_dataframe"
   ]
  },
  {
   "cell_type": "code",
   "execution_count": null,
   "id": "59e6e909",
   "metadata": {},
   "outputs": [
    {
     "name": "stdout",
     "output_type": "stream",
     "text": [
      "LogisticRegression(max_iter=10000)\n",
      "{'C': [1, 5, 10, 20]}\n",
      "---------------------------------\n",
      "SVC()\n",
      "{'kernel': ['linear', 'poly', 'rbf', 'sigmoid'], 'C': [1, 5, 10, 20]}\n",
      "---------------------------------\n"
     ]
    }
   ],
   "source": [
    "ModelSelection(models_list, model_hyperparameters)"
   ]
  },
  {
   "cell_type": "code",
   "execution_count": null,
   "id": "03081bcb",
   "metadata": {},
   "outputs": [],
   "source": []
  }
 ],
 "metadata": {
  "kernelspec": {
   "display_name": "Python 3 (ipykernel)",
   "language": "python",
   "name": "python3"
  },
  "language_info": {
   "codemirror_mode": {
    "name": "ipython",
    "version": 3
   },
   "file_extension": ".py",
   "mimetype": "text/x-python",
   "name": "python",
   "nbconvert_exporter": "python",
   "pygments_lexer": "ipython3",
   "version": "3.9.7"
  }
 },
 "nbformat": 4,
 "nbformat_minor": 5
}
